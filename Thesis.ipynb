{
  "nbformat": 4,
  "nbformat_minor": 0,
  "metadata": {
    "colab": {
      "provenance": []
    },
    "kernelspec": {
      "name": "python3",
      "display_name": "Python 3"
    },
    "language_info": {
      "name": "python"
    }
  },
  "cells": [
    {
      "cell_type": "code",
      "execution_count": 2,
      "metadata": {
        "id": "vayKDmxDwEMr"
      },
      "outputs": [],
      "source": [
        "import numpy as np\n",
        "import matplotlib.pyplot as plt\n",
        "import pandas as pd\n",
        "from datetime import datetime as dt\n",
        "import math"
      ]
    },
    {
      "cell_type": "code",
      "source": [
        "symbol = 'FPT' # VCB, VIC, HPG, VNM, FPT\n",
        "date_milestone = '2021-01-01'"
      ],
      "metadata": {
        "id": "LqzjHSRVio2F"
      },
      "execution_count": 76,
      "outputs": []
    },
    {
      "cell_type": "code",
      "source": [
        "url = f'https://raw.githubusercontent.com/bachbnt/learn-stock_prediction-python/dev/data/{symbol}.csv'\n",
        "dataset_all = pd.read_csv(url)\n",
        "dataset_all.head()"
      ],
      "metadata": {
        "colab": {
          "base_uri": "https://localhost:8080/",
          "height": 206
        },
        "id": "v9upgS4CwTjc",
        "outputId": "cd543588-5cb4-4265-deed-adb4e253a939"
      },
      "execution_count": 77,
      "outputs": [
        {
          "output_type": "execute_result",
          "data": {
            "text/plain": [
              "         Date     Open     High      Low    Close   Volume\n",
              "0  2015-01-05  11997.7  12047.7  11897.7  11947.7   835215\n",
              "1  2015-01-06  11872.7  12022.7  11822.7  12022.7  1111534\n",
              "2  2015-01-07  12022.7  12272.6  12022.7  12097.7  1238274\n",
              "3  2015-01-08  12072.7  12097.7  11947.7  11972.7   694003\n",
              "4  2015-01-09  11972.7  12122.7  11972.7  12072.7   977680"
            ],
            "text/html": [
              "\n",
              "  <div id=\"df-4f781da3-9fd0-45d7-8438-31bb32ee6dfa\">\n",
              "    <div class=\"colab-df-container\">\n",
              "      <div>\n",
              "<style scoped>\n",
              "    .dataframe tbody tr th:only-of-type {\n",
              "        vertical-align: middle;\n",
              "    }\n",
              "\n",
              "    .dataframe tbody tr th {\n",
              "        vertical-align: top;\n",
              "    }\n",
              "\n",
              "    .dataframe thead th {\n",
              "        text-align: right;\n",
              "    }\n",
              "</style>\n",
              "<table border=\"1\" class=\"dataframe\">\n",
              "  <thead>\n",
              "    <tr style=\"text-align: right;\">\n",
              "      <th></th>\n",
              "      <th>Date</th>\n",
              "      <th>Open</th>\n",
              "      <th>High</th>\n",
              "      <th>Low</th>\n",
              "      <th>Close</th>\n",
              "      <th>Volume</th>\n",
              "    </tr>\n",
              "  </thead>\n",
              "  <tbody>\n",
              "    <tr>\n",
              "      <th>0</th>\n",
              "      <td>2015-01-05</td>\n",
              "      <td>11997.7</td>\n",
              "      <td>12047.7</td>\n",
              "      <td>11897.7</td>\n",
              "      <td>11947.7</td>\n",
              "      <td>835215</td>\n",
              "    </tr>\n",
              "    <tr>\n",
              "      <th>1</th>\n",
              "      <td>2015-01-06</td>\n",
              "      <td>11872.7</td>\n",
              "      <td>12022.7</td>\n",
              "      <td>11822.7</td>\n",
              "      <td>12022.7</td>\n",
              "      <td>1111534</td>\n",
              "    </tr>\n",
              "    <tr>\n",
              "      <th>2</th>\n",
              "      <td>2015-01-07</td>\n",
              "      <td>12022.7</td>\n",
              "      <td>12272.6</td>\n",
              "      <td>12022.7</td>\n",
              "      <td>12097.7</td>\n",
              "      <td>1238274</td>\n",
              "    </tr>\n",
              "    <tr>\n",
              "      <th>3</th>\n",
              "      <td>2015-01-08</td>\n",
              "      <td>12072.7</td>\n",
              "      <td>12097.7</td>\n",
              "      <td>11947.7</td>\n",
              "      <td>11972.7</td>\n",
              "      <td>694003</td>\n",
              "    </tr>\n",
              "    <tr>\n",
              "      <th>4</th>\n",
              "      <td>2015-01-09</td>\n",
              "      <td>11972.7</td>\n",
              "      <td>12122.7</td>\n",
              "      <td>11972.7</td>\n",
              "      <td>12072.7</td>\n",
              "      <td>977680</td>\n",
              "    </tr>\n",
              "  </tbody>\n",
              "</table>\n",
              "</div>\n",
              "      <button class=\"colab-df-convert\" onclick=\"convertToInteractive('df-4f781da3-9fd0-45d7-8438-31bb32ee6dfa')\"\n",
              "              title=\"Convert this dataframe to an interactive table.\"\n",
              "              style=\"display:none;\">\n",
              "        \n",
              "  <svg xmlns=\"http://www.w3.org/2000/svg\" height=\"24px\"viewBox=\"0 0 24 24\"\n",
              "       width=\"24px\">\n",
              "    <path d=\"M0 0h24v24H0V0z\" fill=\"none\"/>\n",
              "    <path d=\"M18.56 5.44l.94 2.06.94-2.06 2.06-.94-2.06-.94-.94-2.06-.94 2.06-2.06.94zm-11 1L8.5 8.5l.94-2.06 2.06-.94-2.06-.94L8.5 2.5l-.94 2.06-2.06.94zm10 10l.94 2.06.94-2.06 2.06-.94-2.06-.94-.94-2.06-.94 2.06-2.06.94z\"/><path d=\"M17.41 7.96l-1.37-1.37c-.4-.4-.92-.59-1.43-.59-.52 0-1.04.2-1.43.59L10.3 9.45l-7.72 7.72c-.78.78-.78 2.05 0 2.83L4 21.41c.39.39.9.59 1.41.59.51 0 1.02-.2 1.41-.59l7.78-7.78 2.81-2.81c.8-.78.8-2.07 0-2.86zM5.41 20L4 18.59l7.72-7.72 1.47 1.35L5.41 20z\"/>\n",
              "  </svg>\n",
              "      </button>\n",
              "      \n",
              "  <style>\n",
              "    .colab-df-container {\n",
              "      display:flex;\n",
              "      flex-wrap:wrap;\n",
              "      gap: 12px;\n",
              "    }\n",
              "\n",
              "    .colab-df-convert {\n",
              "      background-color: #E8F0FE;\n",
              "      border: none;\n",
              "      border-radius: 50%;\n",
              "      cursor: pointer;\n",
              "      display: none;\n",
              "      fill: #1967D2;\n",
              "      height: 32px;\n",
              "      padding: 0 0 0 0;\n",
              "      width: 32px;\n",
              "    }\n",
              "\n",
              "    .colab-df-convert:hover {\n",
              "      background-color: #E2EBFA;\n",
              "      box-shadow: 0px 1px 2px rgba(60, 64, 67, 0.3), 0px 1px 3px 1px rgba(60, 64, 67, 0.15);\n",
              "      fill: #174EA6;\n",
              "    }\n",
              "\n",
              "    [theme=dark] .colab-df-convert {\n",
              "      background-color: #3B4455;\n",
              "      fill: #D2E3FC;\n",
              "    }\n",
              "\n",
              "    [theme=dark] .colab-df-convert:hover {\n",
              "      background-color: #434B5C;\n",
              "      box-shadow: 0px 1px 3px 1px rgba(0, 0, 0, 0.15);\n",
              "      filter: drop-shadow(0px 1px 2px rgba(0, 0, 0, 0.3));\n",
              "      fill: #FFFFFF;\n",
              "    }\n",
              "  </style>\n",
              "\n",
              "      <script>\n",
              "        const buttonEl =\n",
              "          document.querySelector('#df-4f781da3-9fd0-45d7-8438-31bb32ee6dfa button.colab-df-convert');\n",
              "        buttonEl.style.display =\n",
              "          google.colab.kernel.accessAllowed ? 'block' : 'none';\n",
              "\n",
              "        async function convertToInteractive(key) {\n",
              "          const element = document.querySelector('#df-4f781da3-9fd0-45d7-8438-31bb32ee6dfa');\n",
              "          const dataTable =\n",
              "            await google.colab.kernel.invokeFunction('convertToInteractive',\n",
              "                                                     [key], {});\n",
              "          if (!dataTable) return;\n",
              "\n",
              "          const docLinkHtml = 'Like what you see? Visit the ' +\n",
              "            '<a target=\"_blank\" href=https://colab.research.google.com/notebooks/data_table.ipynb>data table notebook</a>'\n",
              "            + ' to learn more about interactive tables.';\n",
              "          element.innerHTML = '';\n",
              "          dataTable['output_type'] = 'display_data';\n",
              "          await google.colab.output.renderOutput(dataTable, element);\n",
              "          const docLink = document.createElement('div');\n",
              "          docLink.innerHTML = docLinkHtml;\n",
              "          element.appendChild(docLink);\n",
              "        }\n",
              "      </script>\n",
              "    </div>\n",
              "  </div>\n",
              "  "
            ]
          },
          "metadata": {},
          "execution_count": 77
        }
      ]
    },
    {
      "cell_type": "code",
      "source": [
        "dataset_train = dataset_all[dataset_all['Date'] < date_milestone]\n",
        "dataset_test = dataset_all[dataset_all['Date'] >= date_milestone]"
      ],
      "metadata": {
        "id": "-uffiXuFMEFe"
      },
      "execution_count": 78,
      "outputs": []
    },
    {
      "cell_type": "code",
      "source": [
        "training_set = dataset_train.iloc[:, 1:2].values\n",
        "test_set = dataset_test.iloc[:, 1:2].values"
      ],
      "metadata": {
        "id": "bowbnQ2-xCie"
      },
      "execution_count": 79,
      "outputs": []
    },
    {
      "cell_type": "code",
      "source": [
        "from sklearn.preprocessing import MinMaxScaler\n",
        "sc = MinMaxScaler(feature_range=(0,1))\n",
        "training_set_scaled = sc.fit_transform(training_set)"
      ],
      "metadata": {
        "id": "Dr31fTzixi8u"
      },
      "execution_count": 80,
      "outputs": []
    },
    {
      "cell_type": "code",
      "source": [
        "X_train = []\n",
        "y_train = []\n",
        "for i in range(60, len(dataset_train)):\n",
        "    X_train.append(training_set_scaled[i-60:i, 0])\n",
        "    y_train.append(training_set_scaled[i, 0])\n",
        "X_train, y_train = np.array(X_train), np.array(y_train)\n",
        "\n",
        "X_train = np.reshape(X_train, (X_train.shape[0], X_train.shape[1], 1))"
      ],
      "metadata": {
        "id": "CMrHeQDRxntG"
      },
      "execution_count": 81,
      "outputs": []
    },
    {
      "cell_type": "code",
      "source": [
        "from keras.models import Sequential\n",
        "from keras.layers import LSTM\n",
        "from keras.layers import Dropout\n",
        "from keras.layers import Dense "
      ],
      "metadata": {
        "id": "njVxkek4x6y2"
      },
      "execution_count": 82,
      "outputs": []
    },
    {
      "cell_type": "code",
      "source": [
        "model = Sequential()\n",
        "\n",
        "model.add(LSTM(units=50,return_sequences=True,input_shape=(X_train.shape[1], 1)))\n",
        "model.add(Dropout(0.2))\n",
        "\n",
        "model.add(LSTM(units=50,return_sequences=True))\n",
        "model.add(Dropout(0.2))\n",
        "\n",
        "model.add(LSTM(units=50,return_sequences=True))\n",
        "model.add(Dropout(0.2))\n",
        "\n",
        "model.add(LSTM(units=50))\n",
        "model.add(Dropout(0.2))\n",
        "\n",
        "model.add(Dense(units=1))\n",
        "\n",
        "model.compile(optimizer='adam',loss='mean_squared_error')\n",
        "\n",
        "model.fit(X_train,y_train,epochs=100,batch_size=32)"
      ],
      "metadata": {
        "colab": {
          "base_uri": "https://localhost:8080/"
        },
        "id": "8Iq8Er6TyKCN",
        "outputId": "b2aa5aea-fa57-4e69-d371-94e5a9c22ba1"
      },
      "execution_count": null,
      "outputs": [
        {
          "output_type": "stream",
          "name": "stdout",
          "text": [
            "Epoch 1/100\n"
          ]
        }
      ]
    },
    {
      "cell_type": "code",
      "source": [
        "dataset_total = pd.concat((dataset_train['Close'], dataset_test['Close']), axis = 0)\n",
        "inputs = dataset_total[len(dataset_total) - len(dataset_test) - 60:].values\n",
        "\n",
        "inputs = inputs.reshape(-1,1)\n",
        "inputs = sc.transform(inputs)\n",
        "\n",
        "X_test = []\n",
        "for i in range(60, len(inputs)):\n",
        "    X_test.append(inputs[i-60:i, 0])\n",
        "X_test = np.array(X_test)\n",
        "X_test = np.reshape(X_test, (X_test.shape[0], X_test.shape[1], 1))\n",
        "predicted_set = model.predict(X_test)\n",
        "predicted_set = sc.inverse_transform(predicted_set)\n",
        "\n",
        "real_price = test_set.flatten()\n",
        "predicted_price = predicted_set.flatten()"
      ],
      "metadata": {
        "id": "ZrBWw37N0J-u",
        "colab": {
          "base_uri": "https://localhost:8080/"
        },
        "outputId": "fc9937d2-56be-4c75-d04c-f21287c41c76"
      },
      "execution_count": 69,
      "outputs": [
        {
          "output_type": "stream",
          "name": "stdout",
          "text": [
            "[ 96398  98125  99523 101333 102567 102814 103636 102155 101826 102567\n",
            " 101826 102155 102649 102155 102402 103965 107008 106597 106268 104705\n",
            " 105034 105528 109200 108900 109300 108000 107300 107000 108000 106900\n",
            " 106700 107000 107100 107400 107500 107400 107700 106200 106400 106700\n",
            " 110000 110500 109600 107400 106900 108000 107600 107700 108000 108800\n",
            " 108800 108800 107500 107500 107000 107400 107100 107600 109400 109700\n",
            " 110900 110600 109600 110500 109900 109800 108200 109700 109000 109500\n",
            " 109000 110000 109200 109700 112000 112600 113400 111200 111600 110400\n",
            " 110400 111000 109900 110200 108700 109000 108700 109200 108800 108800\n",
            " 109300 110800 109800 110400 112000 115900 116300 114500 113100 113900\n",
            " 113300 107700 109000 110300 108700 108200 106700 103300  96100 102800\n",
            " 102700 106400 109700 108800 109600 105300 108000 108700 109000 108000\n",
            " 107500 107000 105800 104600 104800 105600 104900 104500 103400 103000\n",
            " 102200 100500 101100 102800 102200 102200 101000 100500 102500 101700\n",
            " 100800 100200  98700  98500  97400  99000  99200  98400 101000 102700\n",
            " 102600 101500 100100  99900  99800 100000 100000  99300  99100  96900\n",
            "  96100  99300  98000  99500  96000  95700  93700  93500  91600  92000\n",
            "  89600  87000  93000  91200  91800  90500  89500  87200  87000  87500\n",
            "  88000  89200  91200  90500  91000  90500  91100  90500  89900  89400\n",
            "  90200  89500  89400  89700  89100  92200  92000  92500  92900  91800\n",
            "  91000  92100  90600  90600  90000  88700  89700  89200  91000  90400\n",
            "  90900  90100  89200  87000  89800  88400  87000  86300  84300  85000\n",
            "  85200  85900  85000  85900  85300  86800  87600  88900  87500  86900\n",
            "  86800  86100  86500  87100  87100  86600  87200  87700  89400  90900\n",
            "  90500  89900  89500  89300  90000  90300  87800  86000  86300  86900\n",
            "  87000  87000  87400  87400  88100  88300  86300  85400  85200  86500\n",
            "  87200  87000  86100  86400  86500  88700  88800  91500  90800  90700\n",
            "  88800  89300  89600  89600  89800  90200  89600  89300  88800  89600\n",
            "  90000  90400  90100  90000  90000  89800  90300  90000  89100  90500\n",
            "  90100  89600  90400  90600  90700  90000  89200  88200  88400  89200\n",
            "  90800  89800  89700  89600  89300  89000  88600  88800  88000  86100\n",
            "  86200  86300  87500  87500  88300  87500  87600  87500  87400  85800\n",
            "  85300  86500  86000  87000  86300  86400  86300  86300  86600  85700\n",
            "  85700  85500  85400  84700  86000  86100  85500  85200  85300  86400\n",
            "  86700  86200  85400  85200  83700  83700  83100  83100  84700  82900\n",
            "  83400  83400  83000  82600  81000  79200  79700  83100  83100  83500\n",
            "  82000  82800  82700  82000  81100  81200  80400  80800  80600  81000\n",
            "  80000  80000  78600  78900  78400  79200  78500  78400  77900  76800\n",
            "  76100  75100  77100  78000  77200  77200  77300  76400  76000  77600\n",
            "  76900  76100  75600  75200  73400  75500  76200  80900  81700  82200\n",
            "  80400  79300  78500  77300  76800  77200  76300  76500]\n",
            "408\n",
            "11/11 [==============================] - 2s 34ms/step\n"
          ]
        }
      ]
    },
    {
      "cell_type": "code",
      "source": [
        "# Root Mean Square Error - RMSE\n",
        "total = 0\n",
        "n = len(real_price)\n",
        "for i in range(n):\n",
        "  total += math.pow(real_price[i] - predicted_price[i], 2)\n",
        "rmse = math.sqrt(total/n)\n",
        "\n",
        "# 5.3526*1000\n",
        "# 1119.8980646153511\n",
        "print(rmse)"
      ],
      "metadata": {
        "id": "dbvyFBPPHe7j",
        "colab": {
          "base_uri": "https://localhost:8080/"
        },
        "outputId": "b8e19686-996b-472c-9b34-7591c89b787a"
      },
      "execution_count": 70,
      "outputs": [
        {
          "output_type": "stream",
          "name": "stdout",
          "text": [
            "1121.477025942849\n"
          ]
        }
      ]
    },
    {
      "cell_type": "code",
      "source": [
        "# Mean Absolute Error - MAE\n",
        "total = 0\n",
        "n = len(real_price)\n",
        "for i in range(n):\n",
        "  total += abs(real_price[i] - predicted_price[i])\n",
        "mae = total/n\n",
        "\n",
        "# 4.0268*1000\n",
        "# 885.3326075819674\n",
        "print(mae)"
      ],
      "metadata": {
        "colab": {
          "base_uri": "https://localhost:8080/"
        },
        "id": "WWH8N7fIilzx",
        "outputId": "1f1d7d6f-aacd-42f6-82e2-5f1f21e23a77"
      },
      "execution_count": 71,
      "outputs": [
        {
          "output_type": "stream",
          "name": "stdout",
          "text": [
            "772.6760281968391\n"
          ]
        }
      ]
    },
    {
      "cell_type": "code",
      "source": [
        "# Mean Absolute Percent Error MAPE\n",
        "total = 0\n",
        "n = len(real_price)\n",
        "for i in range(n):\n",
        "  total += abs(real_price[i] - predicted_price[i])/real_price[i]\n",
        "mape = total/n\n",
        "\n",
        "# 0.0168\n",
        "# 0.027457068357071884\n",
        "print(mape)"
      ],
      "metadata": {
        "colab": {
          "base_uri": "https://localhost:8080/"
        },
        "id": "nOjvSiDfjmGD",
        "outputId": "f9a4cd23-a8ea-4aea-bc8b-b2bb7cf1a57d"
      },
      "execution_count": 72,
      "outputs": [
        {
          "output_type": "stream",
          "name": "stdout",
          "text": [
            "0.008341629723224244\n"
          ]
        }
      ]
    },
    {
      "cell_type": "code",
      "source": [
        "# Average Return - AR\n",
        "total = 0\n",
        "n = len(real_price)\n",
        "for i in range(n - 1):\n",
        "  if(predicted_price[i+1] > predicted_price[i]):\n",
        "    total += real_price[i+1] - real_price[i]\n",
        "ar = total/(n-1)\n",
        "\n",
        "# -0.9632876712328429\n",
        "print(ar)"
      ],
      "metadata": {
        "colab": {
          "base_uri": "https://localhost:8080/"
        },
        "id": "Hb8lWqTmlYjp",
        "outputId": "9c97256e-4e21-40bb-fe80-449e67c83750"
      },
      "execution_count": 73,
      "outputs": [
        {
          "output_type": "stream",
          "name": "stdout",
          "text": [
            "139.76945244956772\n"
          ]
        }
      ]
    },
    {
      "cell_type": "code",
      "source": [
        "# Average Return Taxes Fees - ARTF\n",
        "total = 0\n",
        "n = len(real_price)\n",
        "for i in range(n - 1):\n",
        "  if(predicted_price[i+1] > predicted_price[i]):\n",
        "    tax_fee = real_price[i]*0.0015 + real_price[i+1]*0.0015 + real_price[i+1]*0.001\n",
        "    total += real_price[i+1] - real_price[i] - tax_fee\n",
        "artf = total/(n-1)\n",
        "\n",
        "# -66.13681150684927\n",
        "print(artf)"
      ],
      "metadata": {
        "colab": {
          "base_uri": "https://localhost:8080/"
        },
        "id": "Dbgq3VAECljl",
        "outputId": "0f8e8690-29a9-409f-8ace-01482d031268"
      },
      "execution_count": 74,
      "outputs": [
        {
          "output_type": "stream",
          "name": "stdout",
          "text": [
            "-16.206484149855907\n"
          ]
        }
      ]
    },
    {
      "cell_type": "code",
      "source": [
        "# plt.plot(training_set, label = 'Training Price')\n",
        "plt.plot(test_set, label = 'Test Price')\n",
        "plt.plot(predicted_set, label = 'Predicted Price')\n",
        "plt.title(f'{symbol} Stock Price Prediction')\n",
        "plt.xlabel('Time')\n",
        "plt.ylabel('Stock Price')\n",
        "plt.legend()\n",
        "plt.show()"
      ],
      "metadata": {
        "colab": {
          "base_uri": "https://localhost:8080/",
          "height": 295
        },
        "id": "Mv4mJT4jak-h",
        "outputId": "f09eb14e-cde4-4a71-db2b-c99f146f8011"
      },
      "execution_count": 75,
      "outputs": [
        {
          "output_type": "display_data",
          "data": {
            "text/plain": [
              "<Figure size 432x288 with 1 Axes>"
            ],
            "image/png": "[encoded data removed]"
          },
          "metadata": {
            "needs_background": "light"
          }
        }
      ]
    },
    {
      "cell_type": "code",
      "source": [
        "# bổ sung thuế phí trong công thức tính lợi nhuận\n",
        "# chạy sai số trên tập train => so sánh với tập test => overfit or underfit"
      ],
      "metadata": {
        "id": "BNKI5oKzzGl7"
      },
      "execution_count": null,
      "outputs": []
    },
    {
      "cell_type": "code",
      "source": [
        "# Average Return - AR\n",
        "# Thuế phí\n",
        "total = 0\n",
        "n = len(real_price)\n",
        "for i in range(n - 1):\n",
        "  if(predicted_price[i+1] > predicted_price[i]):\n",
        "    tax_fee = real_price[i]*0.0015 + real_price[i+1]*0.0015 + real_price[i+1]*0.001\n",
        "    total += real_price[i+1] - real_price[i] - tax_fee\n",
        "ar = total/(n-1)\n",
        "\n",
        "# -66.13681150684927\n",
        "print(ar)"
      ],
      "metadata": {
        "colab": {
          "base_uri": "https://localhost:8080/"
        },
        "id": "R5KkRN9kQSB2",
        "outputId": "1a7ff321-377a-461a-d654-b733bdade603"
      },
      "execution_count": null,
      "outputs": [
        {
          "output_type": "stream",
          "name": "stdout",
          "text": [
            "-66.13681150684927\n"
          ]
        }
      ]
    },
    {
      "cell_type": "code",
      "source": [
        "dataset_total = pd.concat((dataset_train['Open'], dataset_test['Open']), axis = 0)\n",
        "inputs = dataset_total[0:len(dataset_total) - len(dataset_test) + 60].values\n",
        "print(inputs)\n",
        "inputs = inputs.reshape(-1,1)\n",
        "inputs = sc.transform(inputs)\n",
        "X_train = []\n",
        "for i in range(60, len(inputs)):\n",
        "    X_train.append(inputs[i-60:i, 0])\n",
        "X_train = np.array(X_train)\n",
        "X_train = np.reshape(X_train, (X_train.shape[0], X_train.shape[1], 1))\n",
        "predicted_set = model.predict(X_train)\n",
        "predicted_set = sc.inverse_transform(predicted_set)\n",
        "\n",
        "real_price = training_set.flatten()\n",
        "predicted_price = predicted_set.flatten()\n",
        "\n",
        "print(real_price.size)\n",
        "print(predicted_price.size)"
      ],
      "metadata": {
        "colab": {
          "base_uri": "https://localhost:8080/"
        },
        "id": "jobZZBETaLoo",
        "outputId": "6847dbf6-9ec6-4c2a-865f-7739422279d6"
      },
      "execution_count": null,
      "outputs": [
        {
          "output_type": "stream",
          "name": "stdout",
          "text": [
            "[ 4738.7  4781.8  4781.8 ... 25896.6 26203.3 27206.8]\n",
            "48/48 [==============================] - 1s 29ms/step\n",
            "1519\n",
            "1519\n"
          ]
        }
      ]
    },
    {
      "cell_type": "code",
      "source": [
        "# Root Mean Square Error - RMSE\n",
        "total = 0\n",
        "n = len(real_price)\n",
        "for i in range(n):\n",
        "  total += math.pow(real_price[i] - predicted_price[i], 2)\n",
        "rmse = math.sqrt(total/n)\n",
        "print(rmse) # 2195.258106239992\n",
        "\n",
        "# Mean Absolute Error - MAE\n",
        "total = 0\n",
        "n = len(real_price)\n",
        "for i in range(n):\n",
        "  total += abs(real_price[i] - predicted_price[i])\n",
        "mae = total/n\n",
        "print(mae) # 1496.0358359542136\n",
        "\n",
        "# Mean Absolute Percent Error MAPE\n",
        "total = 0\n",
        "n = len(real_price)\n",
        "for i in range(n):\n",
        "  total += abs(real_price[i] - predicted_price[i])/real_price[i]\n",
        "mape = total/n\n",
        "print(mape) # 0.1576353579783943"
      ],
      "metadata": {
        "id": "RpgHoIC_bTh6",
        "colab": {
          "base_uri": "https://localhost:8080/"
        },
        "outputId": "4b7e332b-4272-4d7c-e583-8c71e1998511"
      },
      "execution_count": null,
      "outputs": [
        {
          "output_type": "stream",
          "name": "stdout",
          "text": [
            "2195.258106239992\n",
            "1496.0358359542136\n",
            "0.1576353579783943\n"
          ]
        }
      ]
    },
    {
      "cell_type": "code",
      "source": [
        "# => overfit\n",
        "# giảm số lớp\n",
        "# giảm số epoch"
      ],
      "metadata": {
        "id": "DbzkkyMmFDGX"
      },
      "execution_count": null,
      "outputs": []
    }
  ]
}