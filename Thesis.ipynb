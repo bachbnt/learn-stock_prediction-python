{
  "nbformat": 4,
  "nbformat_minor": 0,
  "metadata": {
    "colab": {
      "provenance": []
    },
    "kernelspec": {
      "name": "python3",
      "display_name": "Python 3"
    },
    "language_info": {
      "name": "python"
    }
  },
  "cells": [
    {
      "cell_type": "code",
      "execution_count": null,
      "metadata": {
        "id": "vayKDmxDwEMr"
      },
      "outputs": [],
      "source": [
        "import numpy as np\n",
        "import matplotlib.pyplot as plt\n",
        "import pandas as pd\n",
        "from datetime import datetime as dt\n",
        "import math"
      ]
    },
    {
      "cell_type": "code",
      "source": [
        "symbol = 'HPG'\n",
        "date_milestone = '2021-01-01'"
      ],
      "metadata": {
        "id": "LqzjHSRVio2F"
      },
      "execution_count": null,
      "outputs": []
    },
    {
      "cell_type": "code",
      "source": [
        "url = f'https://raw.githubusercontent.com/bachbnt/learn-stock_prediction-python/v2/data/{symbol}.csv'\n",
        "dataset_all = pd.read_csv(url)\n",
        "dataset_all.head()"
      ],
      "metadata": {
        "colab": {
          "base_uri": "https://localhost:8080/",
          "height": 206
        },
        "id": "v9upgS4CwTjc",
        "outputId": "14012b34-37fb-4661-928a-21cf9ef71d7f"
      },
      "execution_count": null,
      "outputs": [
        {
          "output_type": "execute_result",
          "data": {
            "text/plain": [
              "         Date    Open    High     Low   Close    Volume Currency\n",
              "0  2014-12-04  4738.7  4781.8  4695.7  4738.7   3618911      VND\n",
              "1  2014-12-05  4781.8  4824.9  4738.7  4781.8   7385177      VND\n",
              "2  2014-12-08  4781.8  4781.8  4652.6  4695.7   4465640      VND\n",
              "3  2014-12-09  4652.6  4695.7  4437.2  4480.3  10020174      VND\n",
              "4  2014-12-10  4523.3  4609.5  4394.1  4566.4   5746274      VND"
            ],
            "text/html": [
              "\n",
              "  <div id=\"df-dc3866b1-8c4b-4dd0-a9f4-02b89639282d\">\n",
              "    <div class=\"colab-df-container\">\n",
              "      <div>\n",
              "<style scoped>\n",
              "    .dataframe tbody tr th:only-of-type {\n",
              "        vertical-align: middle;\n",
              "    }\n",
              "\n",
              "    .dataframe tbody tr th {\n",
              "        vertical-align: top;\n",
              "    }\n",
              "\n",
              "    .dataframe thead th {\n",
              "        text-align: right;\n",
              "    }\n",
              "</style>\n",
              "<table border=\"1\" class=\"dataframe\">\n",
              "  <thead>\n",
              "    <tr style=\"text-align: right;\">\n",
              "      <th></th>\n",
              "      <th>Date</th>\n",
              "      <th>Open</th>\n",
              "      <th>High</th>\n",
              "      <th>Low</th>\n",
              "      <th>Close</th>\n",
              "      <th>Volume</th>\n",
              "      <th>Currency</th>\n",
              "    </tr>\n",
              "  </thead>\n",
              "  <tbody>\n",
              "    <tr>\n",
              "      <th>0</th>\n",
              "      <td>2014-12-04</td>\n",
              "      <td>4738.7</td>\n",
              "      <td>4781.8</td>\n",
              "      <td>4695.7</td>\n",
              "      <td>4738.7</td>\n",
              "      <td>3618911</td>\n",
              "      <td>VND</td>\n",
              "    </tr>\n",
              "    <tr>\n",
              "      <th>1</th>\n",
              "      <td>2014-12-05</td>\n",
              "      <td>4781.8</td>\n",
              "      <td>4824.9</td>\n",
              "      <td>4738.7</td>\n",
              "      <td>4781.8</td>\n",
              "      <td>7385177</td>\n",
              "      <td>VND</td>\n",
              "    </tr>\n",
              "    <tr>\n",
              "      <th>2</th>\n",
              "      <td>2014-12-08</td>\n",
              "      <td>4781.8</td>\n",
              "      <td>4781.8</td>\n",
              "      <td>4652.6</td>\n",
              "      <td>4695.7</td>\n",
              "      <td>4465640</td>\n",
              "      <td>VND</td>\n",
              "    </tr>\n",
              "    <tr>\n",
              "      <th>3</th>\n",
              "      <td>2014-12-09</td>\n",
              "      <td>4652.6</td>\n",
              "      <td>4695.7</td>\n",
              "      <td>4437.2</td>\n",
              "      <td>4480.3</td>\n",
              "      <td>10020174</td>\n",
              "      <td>VND</td>\n",
              "    </tr>\n",
              "    <tr>\n",
              "      <th>4</th>\n",
              "      <td>2014-12-10</td>\n",
              "      <td>4523.3</td>\n",
              "      <td>4609.5</td>\n",
              "      <td>4394.1</td>\n",
              "      <td>4566.4</td>\n",
              "      <td>5746274</td>\n",
              "      <td>VND</td>\n",
              "    </tr>\n",
              "  </tbody>\n",
              "</table>\n",
              "</div>\n",
              "      <button class=\"colab-df-convert\" onclick=\"convertToInteractive('df-dc3866b1-8c4b-4dd0-a9f4-02b89639282d')\"\n",
              "              title=\"Convert this dataframe to an interactive table.\"\n",
              "              style=\"display:none;\">\n",
              "        \n",
              "  <svg xmlns=\"http://www.w3.org/2000/svg\" height=\"24px\"viewBox=\"0 0 24 24\"\n",
              "       width=\"24px\">\n",
              "    <path d=\"M0 0h24v24H0V0z\" fill=\"none\"/>\n",
              "    <path d=\"M18.56 5.44l.94 2.06.94-2.06 2.06-.94-2.06-.94-.94-2.06-.94 2.06-2.06.94zm-11 1L8.5 8.5l.94-2.06 2.06-.94-2.06-.94L8.5 2.5l-.94 2.06-2.06.94zm10 10l.94 2.06.94-2.06 2.06-.94-2.06-.94-.94-2.06-.94 2.06-2.06.94z\"/><path d=\"M17.41 7.96l-1.37-1.37c-.4-.4-.92-.59-1.43-.59-.52 0-1.04.2-1.43.59L10.3 9.45l-7.72 7.72c-.78.78-.78 2.05 0 2.83L4 21.41c.39.39.9.59 1.41.59.51 0 1.02-.2 1.41-.59l7.78-7.78 2.81-2.81c.8-.78.8-2.07 0-2.86zM5.41 20L4 18.59l7.72-7.72 1.47 1.35L5.41 20z\"/>\n",
              "  </svg>\n",
              "      </button>\n",
              "      \n",
              "  <style>\n",
              "    .colab-df-container {\n",
              "      display:flex;\n",
              "      flex-wrap:wrap;\n",
              "      gap: 12px;\n",
              "    }\n",
              "\n",
              "    .colab-df-convert {\n",
              "      background-color: #E8F0FE;\n",
              "      border: none;\n",
              "      border-radius: 50%;\n",
              "      cursor: pointer;\n",
              "      display: none;\n",
              "      fill: #1967D2;\n",
              "      height: 32px;\n",
              "      padding: 0 0 0 0;\n",
              "      width: 32px;\n",
              "    }\n",
              "\n",
              "    .colab-df-convert:hover {\n",
              "      background-color: #E2EBFA;\n",
              "      box-shadow: 0px 1px 2px rgba(60, 64, 67, 0.3), 0px 1px 3px 1px rgba(60, 64, 67, 0.15);\n",
              "      fill: #174EA6;\n",
              "    }\n",
              "\n",
              "    [theme=dark] .colab-df-convert {\n",
              "      background-color: #3B4455;\n",
              "      fill: #D2E3FC;\n",
              "    }\n",
              "\n",
              "    [theme=dark] .colab-df-convert:hover {\n",
              "      background-color: #434B5C;\n",
              "      box-shadow: 0px 1px 3px 1px rgba(0, 0, 0, 0.15);\n",
              "      filter: drop-shadow(0px 1px 2px rgba(0, 0, 0, 0.3));\n",
              "      fill: #FFFFFF;\n",
              "    }\n",
              "  </style>\n",
              "\n",
              "      <script>\n",
              "        const buttonEl =\n",
              "          document.querySelector('#df-dc3866b1-8c4b-4dd0-a9f4-02b89639282d button.colab-df-convert');\n",
              "        buttonEl.style.display =\n",
              "          google.colab.kernel.accessAllowed ? 'block' : 'none';\n",
              "\n",
              "        async function convertToInteractive(key) {\n",
              "          const element = document.querySelector('#df-dc3866b1-8c4b-4dd0-a9f4-02b89639282d');\n",
              "          const dataTable =\n",
              "            await google.colab.kernel.invokeFunction('convertToInteractive',\n",
              "                                                     [key], {});\n",
              "          if (!dataTable) return;\n",
              "\n",
              "          const docLinkHtml = 'Like what you see? Visit the ' +\n",
              "            '<a target=\"_blank\" href=https://colab.research.google.com/notebooks/data_table.ipynb>data table notebook</a>'\n",
              "            + ' to learn more about interactive tables.';\n",
              "          element.innerHTML = '';\n",
              "          dataTable['output_type'] = 'display_data';\n",
              "          await google.colab.output.renderOutput(dataTable, element);\n",
              "          const docLink = document.createElement('div');\n",
              "          docLink.innerHTML = docLinkHtml;\n",
              "          element.appendChild(docLink);\n",
              "        }\n",
              "      </script>\n",
              "    </div>\n",
              "  </div>\n",
              "  "
            ]
          },
          "metadata": {},
          "execution_count": 3
        }
      ]
    },
    {
      "cell_type": "code",
      "source": [
        "dataset_train = dataset_all[dataset_all['Date'] < date_milestone]\n",
        "dataset_test = dataset_all[dataset_all['Date'] >= date_milestone]\n",
        "\n",
        "print(dataset_test.size)"
      ],
      "metadata": {
        "id": "-uffiXuFMEFe",
        "colab": {
          "base_uri": "https://localhost:8080/"
        },
        "outputId": "a3f1e9c8-6591-45b6-aee4-9a59c84bfd75"
      },
      "execution_count": null,
      "outputs": [
        {
          "output_type": "stream",
          "name": "stdout",
          "text": [
            "2562\n"
          ]
        }
      ]
    },
    {
      "cell_type": "code",
      "source": [
        "training_set = dataset_train.iloc[:, 1:2].values\n",
        "test_set = dataset_test.iloc[:, 1:2].values\n",
        "\n",
        "# print(training_set)"
      ],
      "metadata": {
        "id": "bowbnQ2-xCie"
      },
      "execution_count": null,
      "outputs": []
    },
    {
      "cell_type": "code",
      "source": [
        "from sklearn.preprocessing import MinMaxScaler\n",
        "sc = MinMaxScaler(feature_range=(0,1))\n",
        "training_set_scaled = sc.fit_transform(training_set)"
      ],
      "metadata": {
        "id": "Dr31fTzixi8u"
      },
      "execution_count": null,
      "outputs": []
    },
    {
      "cell_type": "code",
      "source": [
        "X_train = []\n",
        "y_train = []\n",
        "for i in range(60, len(dataset_train)):\n",
        "    X_train.append(training_set_scaled[i-60:i, 0])\n",
        "    y_train.append(training_set_scaled[i, 0])\n",
        "X_train, y_train = np.array(X_train), np.array(y_train)\n",
        "\n",
        "X_train = np.reshape(X_train, (X_train.shape[0], X_train.shape[1], 1))"
      ],
      "metadata": {
        "id": "CMrHeQDRxntG"
      },
      "execution_count": null,
      "outputs": []
    },
    {
      "cell_type": "code",
      "source": [
        "from keras.models import Sequential\n",
        "from keras.layers import LSTM\n",
        "from keras.layers import Dropout\n",
        "from keras.layers import Dense "
      ],
      "metadata": {
        "id": "njVxkek4x6y2"
      },
      "execution_count": null,
      "outputs": []
    },
    {
      "cell_type": "code",
      "source": [
        "model = Sequential()\n",
        "\n",
        "model.add(LSTM(units=50,return_sequences=True,input_shape=(X_train.shape[1], 1)))\n",
        "model.add(Dropout(0.2))\n",
        "\n",
        "model.add(LSTM(units=50,return_sequences=True))\n",
        "model.add(Dropout(0.2))\n",
        "\n",
        "model.add(LSTM(units=50,return_sequences=True))\n",
        "model.add(Dropout(0.2))\n",
        "\n",
        "model.add(LSTM(units=50))\n",
        "model.add(Dropout(0.2))\n",
        "\n",
        "model.add(Dense(units=1))\n",
        "\n",
        "model.compile(optimizer='adam',loss='mean_squared_error')\n",
        "\n",
        "model.fit(X_train,y_train,epochs=100,batch_size=32)"
      ],
      "metadata": {
        "colab": {
          "base_uri": "https://localhost:8080/"
        },
        "id": "8Iq8Er6TyKCN",
        "outputId": "eff2172c-2c99-46a3-f405-d0764a452116"
      },
      "execution_count": null,
      "outputs": [
        {
          "output_type": "stream",
          "name": "stdout",
          "text": [
            "Epoch 1/100\n",
            "46/46 [==============================] - 13s 119ms/step - loss: 0.0176\n",
            "Epoch 2/100\n",
            "46/46 [==============================] - 6s 121ms/step - loss: 0.0034\n",
            "Epoch 3/100\n",
            "46/46 [==============================] - 5s 108ms/step - loss: 0.0028\n",
            "Epoch 4/100\n",
            "46/46 [==============================] - 6s 124ms/step - loss: 0.0026\n",
            "Epoch 5/100\n",
            "46/46 [==============================] - 5s 112ms/step - loss: 0.0025\n",
            "Epoch 6/100\n",
            "46/46 [==============================] - 8s 169ms/step - loss: 0.0027\n",
            "Epoch 7/100\n",
            "46/46 [==============================] - 5s 112ms/step - loss: 0.0023\n",
            "Epoch 8/100\n",
            "46/46 [==============================] - 5s 117ms/step - loss: 0.0022\n",
            "Epoch 9/100\n",
            "46/46 [==============================] - 5s 116ms/step - loss: 0.0023\n",
            "Epoch 10/100\n",
            "46/46 [==============================] - 6s 129ms/step - loss: 0.0020\n",
            "Epoch 11/100\n",
            "46/46 [==============================] - 7s 145ms/step - loss: 0.0019\n",
            "Epoch 12/100\n",
            "46/46 [==============================] - 7s 147ms/step - loss: 0.0022\n",
            "Epoch 13/100\n",
            "46/46 [==============================] - 5s 111ms/step - loss: 0.0018\n",
            "Epoch 14/100\n",
            "46/46 [==============================] - 5s 113ms/step - loss: 0.0018\n",
            "Epoch 15/100\n",
            "46/46 [==============================] - 6s 121ms/step - loss: 0.0017\n",
            "Epoch 16/100\n",
            "46/46 [==============================] - 6s 125ms/step - loss: 0.0018\n",
            "Epoch 17/100\n",
            "46/46 [==============================] - 5s 115ms/step - loss: 0.0018\n",
            "Epoch 18/100\n",
            "46/46 [==============================] - 6s 121ms/step - loss: 0.0017\n",
            "Epoch 19/100\n",
            "46/46 [==============================] - 5s 113ms/step - loss: 0.0016\n",
            "Epoch 20/100\n",
            "46/46 [==============================] - 5s 116ms/step - loss: 0.0019\n",
            "Epoch 21/100\n",
            "46/46 [==============================] - 5s 109ms/step - loss: 0.0017\n",
            "Epoch 22/100\n",
            "46/46 [==============================] - 5s 118ms/step - loss: 0.0014\n",
            "Epoch 23/100\n",
            "46/46 [==============================] - 5s 114ms/step - loss: 0.0014\n",
            "Epoch 24/100\n",
            "46/46 [==============================] - 7s 147ms/step - loss: 0.0014\n",
            "Epoch 25/100\n",
            "46/46 [==============================] - 7s 141ms/step - loss: 0.0014\n",
            "Epoch 26/100\n",
            "46/46 [==============================] - 5s 113ms/step - loss: 0.0014\n",
            "Epoch 27/100\n",
            "46/46 [==============================] - 5s 115ms/step - loss: 0.0012\n",
            "Epoch 28/100\n",
            "46/46 [==============================] - 5s 116ms/step - loss: 0.0013\n",
            "Epoch 29/100\n",
            "46/46 [==============================] - 5s 119ms/step - loss: 0.0014\n",
            "Epoch 30/100\n",
            "46/46 [==============================] - 6s 123ms/step - loss: 0.0013\n",
            "Epoch 31/100\n",
            "46/46 [==============================] - 5s 119ms/step - loss: 0.0013\n",
            "Epoch 32/100\n",
            "46/46 [==============================] - 5s 117ms/step - loss: 0.0012\n",
            "Epoch 33/100\n",
            "46/46 [==============================] - 5s 112ms/step - loss: 0.0012\n",
            "Epoch 34/100\n",
            "46/46 [==============================] - 6s 121ms/step - loss: 0.0014\n",
            "Epoch 35/100\n",
            "46/46 [==============================] - 5s 117ms/step - loss: 0.0013\n",
            "Epoch 36/100\n",
            "46/46 [==============================] - 5s 114ms/step - loss: 0.0012\n",
            "Epoch 37/100\n",
            "46/46 [==============================] - 5s 117ms/step - loss: 0.0011\n",
            "Epoch 38/100\n",
            "46/46 [==============================] - 5s 116ms/step - loss: 0.0011\n",
            "Epoch 39/100\n",
            "46/46 [==============================] - 5s 116ms/step - loss: 0.0011\n",
            "Epoch 40/100\n",
            "46/46 [==============================] - 6s 121ms/step - loss: 0.0012\n",
            "Epoch 41/100\n",
            "46/46 [==============================] - 5s 113ms/step - loss: 0.0012\n",
            "Epoch 42/100\n",
            "46/46 [==============================] - 6s 121ms/step - loss: 0.0011\n",
            "Epoch 43/100\n",
            "46/46 [==============================] - 5s 119ms/step - loss: 0.0011\n",
            "Epoch 44/100\n",
            "46/46 [==============================] - 5s 108ms/step - loss: 0.0011\n",
            "Epoch 45/100\n",
            "46/46 [==============================] - 5s 112ms/step - loss: 0.0011\n",
            "Epoch 46/100\n",
            "46/46 [==============================] - 5s 113ms/step - loss: 0.0011\n",
            "Epoch 47/100\n",
            "46/46 [==============================] - 6s 121ms/step - loss: 0.0011\n",
            "Epoch 48/100\n",
            "46/46 [==============================] - 6s 130ms/step - loss: 0.0010\n",
            "Epoch 49/100\n",
            "46/46 [==============================] - 5s 108ms/step - loss: 0.0010\n",
            "Epoch 50/100\n",
            "46/46 [==============================] - 5s 110ms/step - loss: 8.9655e-04\n",
            "Epoch 51/100\n",
            "46/46 [==============================] - 7s 142ms/step - loss: 0.0010\n",
            "Epoch 52/100\n",
            "46/46 [==============================] - 5s 111ms/step - loss: 9.3716e-04\n",
            "Epoch 53/100\n",
            "46/46 [==============================] - 5s 113ms/step - loss: 9.0903e-04\n",
            "Epoch 54/100\n",
            "46/46 [==============================] - 5s 110ms/step - loss: 8.6112e-04\n",
            "Epoch 55/100\n",
            "46/46 [==============================] - 5s 108ms/step - loss: 9.0035e-04\n",
            "Epoch 56/100\n",
            "46/46 [==============================] - 5s 108ms/step - loss: 8.8780e-04\n",
            "Epoch 57/100\n",
            "46/46 [==============================] - 5s 113ms/step - loss: 8.5559e-04\n",
            "Epoch 58/100\n",
            "46/46 [==============================] - 6s 122ms/step - loss: 8.4617e-04\n",
            "Epoch 59/100\n",
            "46/46 [==============================] - 5s 118ms/step - loss: 9.2878e-04\n",
            "Epoch 60/100\n",
            "46/46 [==============================] - 6s 124ms/step - loss: 8.2040e-04\n",
            "Epoch 61/100\n",
            "46/46 [==============================] - 5s 116ms/step - loss: 8.3289e-04\n",
            "Epoch 62/100\n",
            "46/46 [==============================] - 5s 110ms/step - loss: 7.9477e-04\n",
            "Epoch 63/100\n",
            "46/46 [==============================] - 5s 119ms/step - loss: 9.5061e-04\n",
            "Epoch 64/100\n",
            "46/46 [==============================] - 5s 115ms/step - loss: 8.3148e-04\n",
            "Epoch 65/100\n",
            "46/46 [==============================] - 5s 114ms/step - loss: 7.3807e-04\n",
            "Epoch 66/100\n",
            "46/46 [==============================] - 5s 109ms/step - loss: 7.7350e-04\n",
            "Epoch 67/100\n",
            "46/46 [==============================] - 5s 110ms/step - loss: 7.9150e-04\n",
            "Epoch 68/100\n",
            "46/46 [==============================] - 6s 124ms/step - loss: 9.0569e-04\n",
            "Epoch 69/100\n",
            "46/46 [==============================] - 5s 111ms/step - loss: 8.5743e-04\n",
            "Epoch 70/100\n",
            "46/46 [==============================] - 5s 112ms/step - loss: 7.8203e-04\n",
            "Epoch 71/100\n",
            "46/46 [==============================] - 7s 154ms/step - loss: 7.3067e-04\n",
            "Epoch 72/100\n",
            "46/46 [==============================] - 6s 126ms/step - loss: 6.8264e-04\n",
            "Epoch 73/100\n",
            "46/46 [==============================] - 5s 119ms/step - loss: 7.6911e-04\n",
            "Epoch 74/100\n",
            "46/46 [==============================] - 5s 111ms/step - loss: 7.3023e-04\n",
            "Epoch 75/100\n",
            "46/46 [==============================] - 5s 111ms/step - loss: 8.1401e-04\n",
            "Epoch 76/100\n",
            "46/46 [==============================] - 6s 121ms/step - loss: 8.5551e-04\n",
            "Epoch 77/100\n",
            "46/46 [==============================] - 5s 111ms/step - loss: 7.9972e-04\n",
            "Epoch 78/100\n",
            "46/46 [==============================] - 5s 112ms/step - loss: 6.9744e-04\n",
            "Epoch 79/100\n",
            "46/46 [==============================] - 5s 115ms/step - loss: 7.3208e-04\n",
            "Epoch 80/100\n",
            "46/46 [==============================] - 6s 123ms/step - loss: 7.4686e-04\n",
            "Epoch 81/100\n",
            "46/46 [==============================] - 5s 117ms/step - loss: 7.7011e-04\n",
            "Epoch 82/100\n",
            "46/46 [==============================] - 5s 109ms/step - loss: 7.1393e-04\n",
            "Epoch 83/100\n",
            "46/46 [==============================] - 5s 113ms/step - loss: 7.9363e-04\n",
            "Epoch 84/100\n",
            "46/46 [==============================] - 6s 120ms/step - loss: 7.4746e-04\n",
            "Epoch 85/100\n",
            "46/46 [==============================] - 8s 160ms/step - loss: 7.0764e-04\n",
            "Epoch 86/100\n",
            "46/46 [==============================] - 5s 115ms/step - loss: 7.5272e-04\n",
            "Epoch 87/100\n",
            "46/46 [==============================] - 5s 110ms/step - loss: 8.0790e-04\n",
            "Epoch 88/100\n",
            "46/46 [==============================] - 5s 113ms/step - loss: 8.0410e-04\n",
            "Epoch 89/100\n",
            "46/46 [==============================] - 6s 122ms/step - loss: 8.0107e-04\n",
            "Epoch 90/100\n",
            "46/46 [==============================] - 6s 122ms/step - loss: 7.3079e-04\n",
            "Epoch 91/100\n",
            "46/46 [==============================] - 5s 113ms/step - loss: 6.3549e-04\n",
            "Epoch 92/100\n",
            "46/46 [==============================] - 6s 129ms/step - loss: 7.3666e-04\n",
            "Epoch 93/100\n",
            "46/46 [==============================] - 5s 111ms/step - loss: 6.9383e-04\n",
            "Epoch 94/100\n",
            "46/46 [==============================] - 5s 115ms/step - loss: 7.3818e-04\n",
            "Epoch 95/100\n",
            "46/46 [==============================] - 5s 113ms/step - loss: 6.2735e-04\n",
            "Epoch 96/100\n",
            "46/46 [==============================] - 5s 113ms/step - loss: 8.4515e-04\n",
            "Epoch 97/100\n",
            "46/46 [==============================] - 6s 125ms/step - loss: 7.7153e-04\n",
            "Epoch 98/100\n",
            "46/46 [==============================] - 5s 119ms/step - loss: 6.4562e-04\n",
            "Epoch 99/100\n",
            "46/46 [==============================] - 5s 109ms/step - loss: 7.3899e-04\n",
            "Epoch 100/100\n",
            "46/46 [==============================] - 5s 118ms/step - loss: 7.5422e-04\n"
          ]
        },
        {
          "output_type": "execute_result",
          "data": {
            "text/plain": [
              "<keras.callbacks.History at 0x7fd8f3e4c250>"
            ]
          },
          "metadata": {},
          "execution_count": 12
        }
      ]
    },
    {
      "cell_type": "code",
      "source": [
        "dataset_total = pd.concat((dataset_train['Open'], dataset_test['Open']), axis = 0)\n",
        "inputs = dataset_total[len(dataset_total) - len(dataset_test) - 60:].values\n",
        "print(inputs)\n",
        "inputs = inputs.reshape(-1,1)\n",
        "inputs = sc.transform(inputs)\n",
        "print(inputs.size)\n",
        "X_test = []\n",
        "for i in range(60, len(inputs)):\n",
        "    X_test.append(inputs[i-60:i, 0])\n",
        "X_test = np.array(X_test)\n",
        "X_test = np.reshape(X_test, (X_test.shape[0], X_test.shape[1], 1))\n",
        "predicted_set = model.predict(X_test)\n",
        "predicted_set = sc.inverse_transform(predicted_set)\n",
        "\n",
        "real_price = test_set.flatten()\n",
        "predicted_price = predicted_set.flatten()"
      ],
      "metadata": {
        "id": "ZrBWw37N0J-u",
        "colab": {
          "base_uri": "https://localhost:8080/"
        },
        "outputId": "080ea2f1-11fc-423e-9fc9-c7ab72d151ee"
      },
      "execution_count": null,
      "outputs": [
        {
          "output_type": "stream",
          "name": "stdout",
          "text": [
            "[15722.  15972.8 15722.  15582.6 16725.5 16279.5 16251.6 16028.6 16418.8\n",
            " 16168.  16614.  17283.  17060.  17366.6 16697.6 17171.5 17032.1 17283.\n",
            " 17115.7 17087.9 16892.7 17171.5 17896.3 17450.3 17450.3 17561.8 18007.8\n",
            " 18119.3 18732.5 19345.8 19680.3 19903.3 21046.2 20516.6 19568.8 19513.1\n",
            " 20210.  19457.3 19847.6 19819.7 20656.  20656.  21297.1 21464.4 21464.4\n",
            " 21185.6 21966.1 21771.  21631.6 21408.6 21241.4 21743.1 21492.2 21994.\n",
            " 22635.2 22300.6 23304.2 22997.5 23192.7 22802.4 23415.7 23304.2 23694.4\n",
            " 24056.8 23917.4 24028.9 24084.7 25199.7 24921.  24698.  24809.5 24865.2\n",
            " 23415.7 23889.6 24698.  24112.6 24307.7 23081.2 20962.6 20628.1 21743.1\n",
            " 21464.4 22969.7 23415.7 23387.8 23694.4 22802.4 23666.6 24196.2 24140.4\n",
            " 24224.1 24084.7 24335.6 24530.7 24363.5 25785.1 26091.8 25952.4 26147.5\n",
            " 25450.6 25980.2 25645.7 25562.1 25590.  25980.2 25980.2 25980.2 25729.4\n",
            " 26036.  25980.2 26370.5 26008.1 25673.6 25478.5 25367.  25924.5 25924.5\n",
            " 25896.6 26203.3 27206.8 27597.  27485.5 27541.3 27597.  27485.5 27820.1\n",
            " 28712.1 27931.6 29827.1 30161.6 30774.9 32335.9 31499.7 30942.1 31499.7\n",
            " 30719.1 31388.2 31499.7 31945.7 33451.  33060.7 33005.  33897.  35290.8\n",
            " 34343.  34789.  34566.  34231.5 34844.8 35681.  36907.6 36851.8 36573.1\n",
            " 36405.8 37576.6 37743.8 37409.3 39884.6 41322.6 41625.3 40868.5 41246.9\n",
            " 41322.6 39581.9 37765.5 37992.6 39430.5 40490.1 40111.7 39960.3 38522.3\n",
            " 39279.2 39354.9 38976.4 39052.1 38900.8 38371.  38825.1 39733.3 39279.2\n",
            " 39127.8 40111.7 39581.9 38673.7 37084.4 37765.5 36706.  35343.7 34435.5\n",
            " 34738.2 33754.4 35343.7 34549.  34057.1 35949.1 35343.7 35419.4 34435.5\n",
            " 34813.9 35041.  35532.9 35646.4 35646.4 35797.8 35987.  35911.3 36781.6\n",
            " 36403.2 37916.9 37689.8 37008.7 36630.3 37084.4 37576.3 38219.6 38295.3\n",
            " 38446.7 37084.4 36024.8 36289.7 36781.6 35949.1 36327.6 37084.4 37084.4\n",
            " 37462.8 39052.1 38371.  39052.1 39354.9 38976.4 38446.7 37916.9 39354.9\n",
            " 38900.8 39657.6 38295.3 38446.7 38825.1 38598.  38900.8 38295.3 39884.6\n",
            " 40641.5 40036.  40792.8 42003.7 42230.8 42684.9 42230.8 42457.8 43366.\n",
            " 43139.  42987.6 43366.  43593.1 43593.1 43441.7 43290.3 43441.7 42760.6\n",
            " 41474.  42609.2 43820.1 43895.8 43214.7 42003.7 42533.5 42079.4 42609.2\n",
            " 43063.3 42987.6 42760.6 41625.3 40792.8 41246.9 40338.7 39354.9 38900.8\n",
            " 37538.5 36478.9 37008.7 37462.8 36857.3 37311.4 36478.9 37046.5 37462.8\n",
            " 37235.7 36933.  35949.1 35154.5 36251.9 35495.  35608.6 35230.2 35230.2\n",
            " 36327.6 36403.2 35835.6 35343.7 35495.  35041.  34132.8 34284.1 35230.2\n",
            " 34738.2 34662.5 35041.  34813.9 35419.4 35495.  35192.3 34889.6 34700.4\n",
            " 34851.7 34208.4 35041.  35192.3 35003.1 33678.7 33603.  33148.9 33300.3\n",
            " 32619.1 30651.4 32921.8 32694.8 31975.8 32392.1 32543.4 34662.5 35873.5\n",
            " 35268.  35192.3 34965.3 34889.6 34813.9 34965.3 35646.4 35041.  35305.8\n",
            " 35381.5 34889.6 34851.7 36100.5 35570.7 36024.8 38598.  37992.6 38295.3\n",
            " 37841.2 37841.2 37235.7 35797.8 34776.1 35495.  35268.  34965.3 35343.7\n",
            " 35495.  35722.1 35570.7 35230.2 34889.6 34965.3 34662.5 34549.  34057.1\n",
            " 34813.9 34813.9 34813.9 35949.1 35381.5 35192.3 34284.1 34284.1 33981.4\n",
            " 33338.1 32543.4 32921.8 32543.4 33300.3 33148.9 30386.5 31181.2 32165.\n",
            " 32467.8 32770.5 32240.7 31332.5 31408.2 29894.6 31029.8 30727.1 28872.8\n",
            " 28040.3 27397.  29062.  28229.5 28532.3 28721.5 27813.3 26110.4 26488.8\n",
            " 26488.8 26867.3 26753.7 26110.4 25732.  25202.2 25845.5 25202.2 25202.2\n",
            " 24899.5 25580.7 24975.2 23840.  22780.4 22818.2 23450.  22750.  21350.\n",
            " 20850.  21500.  21850. ]\n",
            "426\n",
            "12/12 [==============================] - 1s 48ms/step\n"
          ]
        }
      ]
    },
    {
      "cell_type": "code",
      "source": [
        "# Root Mean Square Error - RMSE\n",
        "total = 0\n",
        "n = len(real_price)\n",
        "for i in range(n):\n",
        "  total += math.pow(real_price[i] - predicted_price[i], 2)\n",
        "rmse = math.sqrt(total/n)\n",
        "\n",
        "# 5.3526*1000\n",
        "# 1119.8980646153511\n",
        "print(rmse)"
      ],
      "metadata": {
        "id": "dbvyFBPPHe7j",
        "colab": {
          "base_uri": "https://localhost:8080/"
        },
        "outputId": "37503ffe-9d11-4159-ee6c-7e82c430bbad"
      },
      "execution_count": null,
      "outputs": [
        {
          "output_type": "stream",
          "name": "stdout",
          "text": [
            "1039.3994602657685\n"
          ]
        }
      ]
    },
    {
      "cell_type": "code",
      "source": [
        "# Mean Absolute Error - MAE\n",
        "total = 0\n",
        "n = len(real_price)\n",
        "for i in range(n):\n",
        "  total += abs(real_price[i] - predicted_price[i])\n",
        "mae = total/n\n",
        "\n",
        "# 4.0268*1000\n",
        "# 885.3326075819674\n",
        "print(mae)"
      ],
      "metadata": {
        "colab": {
          "base_uri": "https://localhost:8080/"
        },
        "id": "WWH8N7fIilzx",
        "outputId": "923e3348-11b2-4081-bcdd-82c5b4375be4"
      },
      "execution_count": null,
      "outputs": [
        {
          "output_type": "stream",
          "name": "stdout",
          "text": [
            "885.3326075819674\n"
          ]
        }
      ]
    },
    {
      "cell_type": "code",
      "source": [
        "# Mean Absolute Percent Error MAPE\n",
        "total = 0\n",
        "n = len(real_price)\n",
        "for i in range(n):\n",
        "  total += abs(real_price[i] - predicted_price[i])/real_price[i]\n",
        "mape = total/n\n",
        "\n",
        "# 0.0168\n",
        "# 0.027457068357071884\n",
        "print(mape)"
      ],
      "metadata": {
        "colab": {
          "base_uri": "https://localhost:8080/"
        },
        "id": "nOjvSiDfjmGD",
        "outputId": "23f173d6-8356-483f-d4b0-d975b1a102db"
      },
      "execution_count": null,
      "outputs": [
        {
          "output_type": "stream",
          "name": "stdout",
          "text": [
            "0.1576353579783943\n"
          ]
        }
      ]
    },
    {
      "cell_type": "code",
      "source": [
        "# Average Return - AR\n",
        "total = 0\n",
        "n = len(real_price)\n",
        "for i in range(n - 1):\n",
        "  if(predicted_price[i+1] > predicted_price[i]):\n",
        "    total += real_price[i+1] - real_price[i]\n",
        "ar = total/(n-1)\n",
        "\n",
        "# -0.9632876712328429\n",
        "print(ar)"
      ],
      "metadata": {
        "colab": {
          "base_uri": "https://localhost:8080/"
        },
        "id": "Hb8lWqTmlYjp",
        "outputId": "957d06b0-268d-4533-a21d-41d6e1283684"
      },
      "execution_count": null,
      "outputs": [
        {
          "output_type": "stream",
          "name": "stdout",
          "text": [
            "-0.9632876712328429\n"
          ]
        }
      ]
    },
    {
      "cell_type": "code",
      "source": [
        "# plt.plot(training_set, label = 'Training Price')\n",
        "plt.plot(test_set, label = 'Test Price')\n",
        "plt.plot(predicted_set, label = 'Predicted Price')\n",
        "plt.title(f'{symbol} Stock Price Prediction')\n",
        "plt.xlabel('Time')\n",
        "plt.ylabel('Stock Price')\n",
        "plt.legend()\n",
        "plt.show()"
      ],
      "metadata": {
        "colab": {
          "base_uri": "https://localhost:8080/",
          "height": 295
        },
        "id": "Mv4mJT4jak-h",
        "outputId": "e8817a43-e8a9-4545-bb2f-64f2213dfbd3"
      },
      "execution_count": null,
      "outputs": [
        {
          "output_type": "display_data",
          "data": {
            "text/plain": [
              "<Figure size 432x288 with 1 Axes>"
            ],
            "image/png": "[encoded data removed]"
          },
          "metadata": {
            "needs_background": "light"
          }
        }
      ]
    },
    {
      "cell_type": "code",
      "source": [
        "# bổ sung thuế phí trong công thức tính lợi nhuận\n",
        "# chạy sai số trên tập train => so sánh với tập test => overfit or underfit"
      ],
      "metadata": {
        "id": "BNKI5oKzzGl7"
      },
      "execution_count": null,
      "outputs": []
    },
    {
      "cell_type": "code",
      "source": [
        "# Average Return - AR\n",
        "# Thuế phí\n",
        "total = 0\n",
        "n = len(real_price)\n",
        "for i in range(n - 1):\n",
        "  if(predicted_price[i+1] > predicted_price[i]):\n",
        "    tax_fee = real_price[i]*0.0015 + real_price[i+1]*0.0015 + real_price[i+1]*0.001\n",
        "    total += real_price[i+1] - real_price[i] - tax_fee\n",
        "ar = total/(n-1)\n",
        "\n",
        "# -66.13681150684927\n",
        "print(ar)"
      ],
      "metadata": {
        "colab": {
          "base_uri": "https://localhost:8080/"
        },
        "id": "R5KkRN9kQSB2",
        "outputId": "1a7ff321-377a-461a-d654-b733bdade603"
      },
      "execution_count": null,
      "outputs": [
        {
          "output_type": "stream",
          "name": "stdout",
          "text": [
            "-66.13681150684927\n"
          ]
        }
      ]
    },
    {
      "cell_type": "code",
      "source": [
        "dataset_total = pd.concat((dataset_train['Open'], dataset_test['Open']), axis = 0)\n",
        "inputs = dataset_total[0:len(dataset_total) - len(dataset_test) + 60].values\n",
        "print(inputs)\n",
        "inputs = inputs.reshape(-1,1)\n",
        "inputs = sc.transform(inputs)\n",
        "X_train = []\n",
        "for i in range(60, len(inputs)):\n",
        "    X_train.append(inputs[i-60:i, 0])\n",
        "X_train = np.array(X_train)\n",
        "X_train = np.reshape(X_train, (X_train.shape[0], X_train.shape[1], 1))\n",
        "predicted_set = model.predict(X_train)\n",
        "predicted_set = sc.inverse_transform(predicted_set)\n",
        "\n",
        "real_price = training_set.flatten()\n",
        "predicted_price = predicted_set.flatten()\n",
        "\n",
        "print(real_price.size)\n",
        "print(predicted_price.size)"
      ],
      "metadata": {
        "colab": {
          "base_uri": "https://localhost:8080/"
        },
        "id": "jobZZBETaLoo",
        "outputId": "6847dbf6-9ec6-4c2a-865f-7739422279d6"
      },
      "execution_count": null,
      "outputs": [
        {
          "output_type": "stream",
          "name": "stdout",
          "text": [
            "[ 4738.7  4781.8  4781.8 ... 25896.6 26203.3 27206.8]\n",
            "48/48 [==============================] - 1s 29ms/step\n",
            "1519\n",
            "1519\n"
          ]
        }
      ]
    },
    {
      "cell_type": "code",
      "source": [
        "# Root Mean Square Error - RMSE\n",
        "total = 0\n",
        "n = len(real_price)\n",
        "for i in range(n):\n",
        "  total += math.pow(real_price[i] - predicted_price[i], 2)\n",
        "rmse = math.sqrt(total/n)\n",
        "print(rmse) # 2195.258106239992\n",
        "\n",
        "# Mean Absolute Error - MAE\n",
        "total = 0\n",
        "n = len(real_price)\n",
        "for i in range(n):\n",
        "  total += abs(real_price[i] - predicted_price[i])\n",
        "mae = total/n\n",
        "print(mae) # 1496.0358359542136\n",
        "\n",
        "# Mean Absolute Percent Error MAPE\n",
        "total = 0\n",
        "n = len(real_price)\n",
        "for i in range(n):\n",
        "  total += abs(real_price[i] - predicted_price[i])/real_price[i]\n",
        "mape = total/n\n",
        "print(mape) # 0.1576353579783943"
      ],
      "metadata": {
        "id": "RpgHoIC_bTh6",
        "colab": {
          "base_uri": "https://localhost:8080/"
        },
        "outputId": "4b7e332b-4272-4d7c-e583-8c71e1998511"
      },
      "execution_count": null,
      "outputs": [
        {
          "output_type": "stream",
          "name": "stdout",
          "text": [
            "2195.258106239992\n",
            "1496.0358359542136\n",
            "0.1576353579783943\n"
          ]
        }
      ]
    },
    {
      "cell_type": "code",
      "source": [
        "# => overfit\n",
        "# giảm số lớp\n",
        "# giảm số epoch"
      ],
      "metadata": {
        "id": "DbzkkyMmFDGX"
      },
      "execution_count": null,
      "outputs": []
    }
  ]
}